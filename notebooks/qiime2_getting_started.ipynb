{
  "cells": [
    {
      "cell_type": "markdown",
      "metadata": {},
      "source": [
        "# QIIME2 Getting Started Notebook\n",
        "\n",
        "This notebook demonstrates basic QIIME2 functionality in Jupyter."
      ]
    },
    {
      "cell_type": "code",
      "execution_count": null,
      "metadata": {},
      "outputs": [],
      "source": [
        "# Import necessary libraries\n",
        "import qiime2\n",
        "import pandas as pd\n",
        "import numpy as np\n",
        "import matplotlib.pyplot as plt\n",
        "import seaborn as sns\n",
        "from qiime2 import Artifact, Metadata, Visualization\n",
        "\n",
        "# Set up plotting\n",
        "sns.set_style(\"whitegrid\")\n",
        "%matplotlib inline"
      ]
    },
    {
      "cell_type": "markdown",
      "metadata": {},
      "source": [
        "## Check QIIME2 Installation"
      ]
    },
    {
      "cell_type": "code",
      "execution_count": null,
      "metadata": {},
      "outputs": [],
      "source": [
        "# Check QIIME2 version\n",
        "!qiime info"
      ]
    },
    {
      "cell_type": "markdown",
      "metadata": {},
      "source": [
        "## Download Sample Data\n",
        "\n",
        "Let's download the Moving Pictures tutorial data:"
      ]
    },
    {
      "cell_type": "code",
      "execution_count": null,
      "metadata": {},
      "outputs": [],
      "source": [
        "!mkdir -p sample-data\n",
        "!cd sample-data && wget -q \"https://data.qiime2.org/2025.7/tutorials/moving-pictures/sample-metadata.tsv\"\n",
        "!cd sample-data && wget -q \"https://data.qiime2.org/2025.7/tutorials/moving-pictures/emp-single-end-sequences/sequences.fastq.gz\"\n",
        "!cd sample-data && wget -q \"https://data.qiime2.org/2025.7/tutorials/moving-pictures/emp-single-end-sequences/barcodes.fastq.gz\"\n",
        "print(\"Sample data downloaded!\")"
      ]
    },
    {
      "cell_type": "markdown",
      "metadata": {},
      "source": [
        "## Load and Explore Metadata"
      ]
    },
    {
      "cell_type": "code",
      "execution_count": null,
      "metadata": {},
      "outputs": [],
      "source": [
        "# Load metadata\n",
        "metadata_df = pd.read_csv('sample-data/sample-metadata.tsv', sep='\\t', index_col=0)\n",
        "print(f\"Metadata shape: {metadata_df.shape}\")\n",
        "print(f\"\\nColumns: {list(metadata_df.columns)}\")\n",
        "metadata_df.head()"
      ]
    },
    {
      "cell_type": "markdown",
      "metadata": {},
      "source": [
        "## Import Data into QIIME2"
      ]
    },
    {
      "cell_type": "code",
      "execution_count": null,
      "metadata": {},
      "outputs": [],
      "source": [
        "# Import multiplexed sequences\n",
        "!qiime tools import \\\n",
        "  --type EMPSingleEndSequences \\\n",
        "  --input-path sample-data \\\n",
        "  --output-path sample-data/emp-single-end-sequences.qza\n",
        "\n",
        "print(\"Data imported successfully!\")"
      ]
    },
    {
      "cell_type": "markdown",
      "metadata": {},
      "source": [
        "## Demultiplex Sequences"
      ]
    },
    {
      "cell_type": "code",
      "execution_count": null,
      "metadata": {},
      "outputs": [],
      "source": [
        "# Demultiplex the sequences\n",
        "!qiime demux emp-single \\\n",
        "  --i-seqs sample-data/emp-single-end-sequences.qza \\\n",
        "  --m-barcodes-file sample-data/sample-metadata.tsv \\\n",
        "  --m-barcodes-column barcode-sequence \\\n",
        "  --o-per-sample-sequences sample-data/demux.qza \\\n",
        "  --o-error-correction-details sample-data/demux-details.qza\n",
        "\n",
        "print(\"Demultiplexing complete!\")"
      ]
    },
    {
      "cell_type": "markdown",
      "metadata": {},
      "source": [
        "## Create and View Summary Visualization"
      ]
    },
    {
      "cell_type": "code",
      "execution_count": null,
      "metadata": {},
      "outputs": [],
      "source": [
        "# Create summary visualization\n",
        "!qiime demux summarize \\\n",
        "  --i-data sample-data/demux.qza \\\n",
        "  --o-visualization sample-data/demux.qzv\n",
        "\n",
        "# Load and display the visualization\n",
        "viz = Visualization.load('sample-data/demux.qzv')\n",
        "viz"
      ]
    },
    {
      "cell_type": "markdown",
      "metadata": {},
      "source": [
        "## Working with QIIME2 Artifacts in Python"
      ]
    },
    {
      "cell_type": "code",
      "execution_count": null,
      "metadata": {},
      "outputs": [],
      "source": [
        "# Load an artifact\n",
        "demux_artifact = Artifact.load('sample-data/demux.qza')\n",
        "\n",
        "# View artifact information\n",
        "print(f\"Type: {demux_artifact.type}\")\n",
        "print(f\"Format: {demux_artifact.format}\")\n",
        "print(f\"UUID: {demux_artifact.uuid}\")"
      ]
    },
    {
      "cell_type": "markdown",
      "metadata": {},
      "source": [
        "## Quality Control and Denoising with DADA2\n",
        "\n",
        "Based on the quality plots from the demux.qzv visualization, we'll denoise the sequences:"
      ]
    },
    {
      "cell_type": "code",
      "execution_count": null,
      "metadata": {},
      "outputs": [],
      "source": [
        "# This step takes a few minutes\n",
        "!qiime dada2 denoise-single \\\n",
        "  --i-demultiplexed-seqs sample-data/demux.qza \\\n",
        "  --p-trim-left 0 \\\n",
        "  --p-trunc-len 120 \\\n",
        "  --o-representative-sequences sample-data/rep-seqs-dada2.qza \\\n",
        "  --o-table sample-data/table-dada2.qza \\\n",
        "  --o-denoising-stats sample-data/stats-dada2.qza\n",
        "\n",
        "print(\"DADA2 denoising complete!\")"
      ]
    },
    {
      "cell_type": "markdown",
      "metadata": {},
      "source": [
        "## Visualize Denoising Stats"
      ]
    },
    {
      "cell_type": "code",
      "execution_count": null,
      "metadata": {},
      "outputs": [],
      "source": [
        "# Create denoising stats visualization\n",
        "!qiime metadata tabulate \\\n",
        "  --m-input-file sample-data/stats-dada2.qza \\\n",
        "  --o-visualization sample-data/stats-dada2.qzv\n",
        "\n",
        "# View the stats\n",
        "stats_viz = Visualization.load('sample-data/stats-dada2.qzv')\n",
        "stats_viz"
      ]
    },
    {
      "cell_type": "markdown",
      "metadata": {},
      "source": [
        "## Feature Table Summary"
      ]
    },
    {
      "cell_type": "code",
      "execution_count": null,
      "metadata": {},
      "outputs": [],
      "source": [
        "# Summarize feature table\n",
        "!qiime feature-table summarize \\\n",
        "  --i-table sample-data/table-dada2.qza \\\n",
        "  --o-visualization sample-data/table-dada2.qzv \\\n",
        "  --m-sample-metadata-file sample-data/sample-metadata.tsv\n",
        "\n",
        "# Summarize representative sequences\n",
        "!qiime feature-table tabulate-seqs \\\n",
        "  --i-data sample-data/rep-seqs-dada2.qza \\\n",
        "  --o-visualization sample-data/rep-seqs-dada2.qzv\n",
        "\n",
        "print(\"Feature table summaries created!\")"
      ]
    },
    {
      "cell_type": "markdown",
      "metadata": {},
      "source": [
        "## Next Steps\n",
        "\n",
        "From here, you can continue with:\n",
        "\n",
        "1. **Taxonomic Classification**: Classify your sequences against a reference database\n",
        "2. **Phylogenetic Analysis**: Build a phylogenetic tree\n",
        "3. **Diversity Analysis**: Calculate alpha and beta diversity metrics\n",
        "4. **Differential Abundance**: Test for differentially abundant features\n",
        "\n",
        "Check the QIIME2 tutorials for detailed workflows: https://docs.qiime2.org/2025.7/tutorials/"
      ]
    }
  ],
  "metadata": {
    "kernelspec": {
      "display_name": "Python 3",
      "language": "python",
      "name": "python3"
    },
    "language_info": {
      "codemirror_mode": {
        "name": "ipython",
        "version": 3
      },
      "file_extension": ".py",
      "mimetype": "text/x-python",
      "name": "python",
      "nbconvert_exporter": "python",
      "pygments_lexer": "ipython3",
      "version": "3.9.0"
    }
  },
  "nbformat": 4,
  "nbformat_minor": 4
}
